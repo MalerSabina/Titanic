{
 "cells": [
  {
   "cell_type": "markdown",
   "metadata": {},
   "source": [
    "# Messing Around with Different Machine Learning Models in R\n",
    "## Logistic Regression"
   ]
  },
  {
   "cell_type": "markdown",
   "metadata": {},
   "source": [
    "Different things to try with Logistic Regression\n",
    "1. Using all variables to train the model - don't clean (except for removing the Cabin column)\n",
    "2. Run the logistic regression example from r-bloggers to make sure we are getting the same results - https://www.r-bloggers.com/how-to-perform-a-logistic-regression-in-r/\n",
    "2. Using only some predictors i.e. only the 2 strongest columns according to the logistic model\n",
    "3. Compare accuracy to Azure ML - need to do randomForest - won't be logistic regression\n",
    "4. Look into cross validation\n",
    "5. Look at distribution differences when the data is normalized/scaled\n",
    "6. Compare model that use scaled/normalized data between a model that doesn't"
   ]
  },
  {
   "cell_type": "code",
   "execution_count": 4,
   "metadata": {},
   "outputs": [
    {
     "name": "stderr",
     "output_type": "stream",
     "text": [
      "\n",
      "Attaching package: ‘dplyr’\n",
      "\n",
      "The following objects are masked from ‘package:stats’:\n",
      "\n",
      "    filter, lag\n",
      "\n",
      "The following objects are masked from ‘package:base’:\n",
      "\n",
      "    intersect, setdiff, setequal, union\n",
      "\n"
     ]
    }
   ],
   "source": [
    "#Library imports\n",
    "library(ggplot2)\n",
    "library(dplyr)"
   ]
  },
  {
   "cell_type": "code",
   "execution_count": 5,
   "metadata": {},
   "outputs": [
    {
     "data": {
      "text/html": [
       "<table>\n",
       "<thead><tr><th scope=col>PassengerId</th><th scope=col>Survived</th><th scope=col>Pclass</th><th scope=col>Name</th><th scope=col>Sex</th><th scope=col>Age</th><th scope=col>SibSp</th><th scope=col>Parch</th><th scope=col>Ticket</th><th scope=col>Fare</th><th scope=col>Cabin</th><th scope=col>Embarked</th></tr></thead>\n",
       "<tbody>\n",
       "\t<tr><td>1                                                  </td><td>0                                                  </td><td>3                                                  </td><td>Braund, Mr. Owen Harris                            </td><td>male                                               </td><td>22                                                 </td><td>1                                                  </td><td>0                                                  </td><td>A/5 21171                                          </td><td> 7.2500                                            </td><td>NA                                                 </td><td>S                                                  </td></tr>\n",
       "\t<tr><td>2                                                  </td><td>1                                                  </td><td>1                                                  </td><td>Cumings, Mrs. John Bradley (Florence Briggs Thayer)</td><td>female                                             </td><td>38                                                 </td><td>1                                                  </td><td>0                                                  </td><td>PC 17599                                           </td><td>71.2833                                            </td><td>C85                                                </td><td>C                                                  </td></tr>\n",
       "\t<tr><td>3                                                  </td><td>1                                                  </td><td>3                                                  </td><td>Heikkinen, Miss. Laina                             </td><td>female                                             </td><td>26                                                 </td><td>0                                                  </td><td>0                                                  </td><td>STON/O2. 3101282                                   </td><td> 7.9250                                            </td><td>NA                                                 </td><td>S                                                  </td></tr>\n",
       "\t<tr><td>4                                                  </td><td>1                                                  </td><td>1                                                  </td><td>Futrelle, Mrs. Jacques Heath (Lily May Peel)       </td><td>female                                             </td><td>35                                                 </td><td>1                                                  </td><td>0                                                  </td><td>113803                                             </td><td>53.1000                                            </td><td>C123                                               </td><td>S                                                  </td></tr>\n",
       "\t<tr><td>5                                                  </td><td>0                                                  </td><td>3                                                  </td><td>Allen, Mr. William Henry                           </td><td>male                                               </td><td>35                                                 </td><td>0                                                  </td><td>0                                                  </td><td>373450                                             </td><td> 8.0500                                            </td><td>NA                                                 </td><td>S                                                  </td></tr>\n",
       "\t<tr><td>6                                                  </td><td>0                                                  </td><td>3                                                  </td><td>Moran, Mr. James                                   </td><td>male                                               </td><td>NA                                                 </td><td>0                                                  </td><td>0                                                  </td><td>330877                                             </td><td> 8.4583                                            </td><td>NA                                                 </td><td>Q                                                  </td></tr>\n",
       "</tbody>\n",
       "</table>\n"
      ],
      "text/latex": [
       "\\begin{tabular}{r|llllllllllll}\n",
       " PassengerId & Survived & Pclass & Name & Sex & Age & SibSp & Parch & Ticket & Fare & Cabin & Embarked\\\\\n",
       "\\hline\n",
       "\t 1                                                   & 0                                                   & 3                                                   & Braund, Mr. Owen Harris                             & male                                                & 22                                                  & 1                                                   & 0                                                   & A/5 21171                                           &  7.2500                                             & NA                                                  & S                                                  \\\\\n",
       "\t 2                                                   & 1                                                   & 1                                                   & Cumings, Mrs. John Bradley (Florence Briggs Thayer) & female                                              & 38                                                  & 1                                                   & 0                                                   & PC 17599                                            & 71.2833                                             & C85                                                 & C                                                  \\\\\n",
       "\t 3                                                   & 1                                                   & 3                                                   & Heikkinen, Miss. Laina                              & female                                              & 26                                                  & 0                                                   & 0                                                   & STON/O2. 3101282                                    &  7.9250                                             & NA                                                  & S                                                  \\\\\n",
       "\t 4                                                   & 1                                                   & 1                                                   & Futrelle, Mrs. Jacques Heath (Lily May Peel)        & female                                              & 35                                                  & 1                                                   & 0                                                   & 113803                                              & 53.1000                                             & C123                                                & S                                                  \\\\\n",
       "\t 5                                                   & 0                                                   & 3                                                   & Allen, Mr. William Henry                            & male                                                & 35                                                  & 0                                                   & 0                                                   & 373450                                              &  8.0500                                             & NA                                                  & S                                                  \\\\\n",
       "\t 6                                                   & 0                                                   & 3                                                   & Moran, Mr. James                                    & male                                                & NA                                                  & 0                                                   & 0                                                   & 330877                                              &  8.4583                                             & NA                                                  & Q                                                  \\\\\n",
       "\\end{tabular}\n"
      ],
      "text/markdown": [
       "\n",
       "PassengerId | Survived | Pclass | Name | Sex | Age | SibSp | Parch | Ticket | Fare | Cabin | Embarked | \n",
       "|---|---|---|---|---|---|\n",
       "| 1                                                   | 0                                                   | 3                                                   | Braund, Mr. Owen Harris                             | male                                                | 22                                                  | 1                                                   | 0                                                   | A/5 21171                                           |  7.2500                                             | NA                                                  | S                                                   | \n",
       "| 2                                                   | 1                                                   | 1                                                   | Cumings, Mrs. John Bradley (Florence Briggs Thayer) | female                                              | 38                                                  | 1                                                   | 0                                                   | PC 17599                                            | 71.2833                                             | C85                                                 | C                                                   | \n",
       "| 3                                                   | 1                                                   | 3                                                   | Heikkinen, Miss. Laina                              | female                                              | 26                                                  | 0                                                   | 0                                                   | STON/O2. 3101282                                    |  7.9250                                             | NA                                                  | S                                                   | \n",
       "| 4                                                   | 1                                                   | 1                                                   | Futrelle, Mrs. Jacques Heath (Lily May Peel)        | female                                              | 35                                                  | 1                                                   | 0                                                   | 113803                                              | 53.1000                                             | C123                                                | S                                                   | \n",
       "| 5                                                   | 0                                                   | 3                                                   | Allen, Mr. William Henry                            | male                                                | 35                                                  | 0                                                   | 0                                                   | 373450                                              |  8.0500                                             | NA                                                  | S                                                   | \n",
       "| 6                                                   | 0                                                   | 3                                                   | Moran, Mr. James                                    | male                                                | NA                                                  | 0                                                   | 0                                                   | 330877                                              |  8.4583                                             | NA                                                  | Q                                                   | \n",
       "\n",
       "\n"
      ],
      "text/plain": [
       "  PassengerId Survived Pclass\n",
       "1 1           0        3     \n",
       "2 2           1        1     \n",
       "3 3           1        3     \n",
       "4 4           1        1     \n",
       "5 5           0        3     \n",
       "6 6           0        3     \n",
       "  Name                                                Sex    Age SibSp Parch\n",
       "1 Braund, Mr. Owen Harris                             male   22  1     0    \n",
       "2 Cumings, Mrs. John Bradley (Florence Briggs Thayer) female 38  1     0    \n",
       "3 Heikkinen, Miss. Laina                              female 26  0     0    \n",
       "4 Futrelle, Mrs. Jacques Heath (Lily May Peel)        female 35  1     0    \n",
       "5 Allen, Mr. William Henry                            male   35  0     0    \n",
       "6 Moran, Mr. James                                    male   NA  0     0    \n",
       "  Ticket           Fare    Cabin Embarked\n",
       "1 A/5 21171         7.2500 NA    S       \n",
       "2 PC 17599         71.2833 C85   C       \n",
       "3 STON/O2. 3101282  7.9250 NA    S       \n",
       "4 113803           53.1000 C123  S       \n",
       "5 373450            8.0500 NA    S       \n",
       "6 330877            8.4583 NA    Q       "
      ]
     },
     "metadata": {},
     "output_type": "display_data"
    }
   ],
   "source": [
    "#Import data and prep\n",
    "df <- read.csv(file = 'datasets/train.csv', stringsAsFactor = TRUE, na.strings = c(\"\", NA))\n",
    "head(df)"
   ]
  },
  {
   "cell_type": "code",
   "execution_count": 6,
   "metadata": {},
   "outputs": [
    {
     "data": {
      "text/html": [
       "<table>\n",
       "<thead><tr><th scope=col>Survived</th><th scope=col>Pclass</th><th scope=col>Sex</th><th scope=col>Age</th><th scope=col>SibSp</th><th scope=col>Parch</th><th scope=col>Fare</th><th scope=col>Embarked</th></tr></thead>\n",
       "<tbody>\n",
       "\t<tr><td>0      </td><td>3      </td><td>male   </td><td>22     </td><td>1      </td><td>0      </td><td> 7.2500</td><td>S      </td></tr>\n",
       "\t<tr><td>1      </td><td>1      </td><td>female </td><td>38     </td><td>1      </td><td>0      </td><td>71.2833</td><td>C      </td></tr>\n",
       "\t<tr><td>1      </td><td>3      </td><td>female </td><td>26     </td><td>0      </td><td>0      </td><td> 7.9250</td><td>S      </td></tr>\n",
       "\t<tr><td>1      </td><td>1      </td><td>female </td><td>35     </td><td>1      </td><td>0      </td><td>53.1000</td><td>S      </td></tr>\n",
       "\t<tr><td>0      </td><td>3      </td><td>male   </td><td>35     </td><td>0      </td><td>0      </td><td> 8.0500</td><td>S      </td></tr>\n",
       "\t<tr><td>0      </td><td>3      </td><td>male   </td><td>NA     </td><td>0      </td><td>0      </td><td> 8.4583</td><td>Q      </td></tr>\n",
       "</tbody>\n",
       "</table>\n"
      ],
      "text/latex": [
       "\\begin{tabular}{r|llllllll}\n",
       " Survived & Pclass & Sex & Age & SibSp & Parch & Fare & Embarked\\\\\n",
       "\\hline\n",
       "\t 0       & 3       & male    & 22      & 1       & 0       &  7.2500 & S      \\\\\n",
       "\t 1       & 1       & female  & 38      & 1       & 0       & 71.2833 & C      \\\\\n",
       "\t 1       & 3       & female  & 26      & 0       & 0       &  7.9250 & S      \\\\\n",
       "\t 1       & 1       & female  & 35      & 1       & 0       & 53.1000 & S      \\\\\n",
       "\t 0       & 3       & male    & 35      & 0       & 0       &  8.0500 & S      \\\\\n",
       "\t 0       & 3       & male    & NA      & 0       & 0       &  8.4583 & Q      \\\\\n",
       "\\end{tabular}\n"
      ],
      "text/markdown": [
       "\n",
       "Survived | Pclass | Sex | Age | SibSp | Parch | Fare | Embarked | \n",
       "|---|---|---|---|---|---|\n",
       "| 0       | 3       | male    | 22      | 1       | 0       |  7.2500 | S       | \n",
       "| 1       | 1       | female  | 38      | 1       | 0       | 71.2833 | C       | \n",
       "| 1       | 3       | female  | 26      | 0       | 0       |  7.9250 | S       | \n",
       "| 1       | 1       | female  | 35      | 1       | 0       | 53.1000 | S       | \n",
       "| 0       | 3       | male    | 35      | 0       | 0       |  8.0500 | S       | \n",
       "| 0       | 3       | male    | NA      | 0       | 0       |  8.4583 | Q       | \n",
       "\n",
       "\n"
      ],
      "text/plain": [
       "  Survived Pclass Sex    Age SibSp Parch Fare    Embarked\n",
       "1 0        3      male   22  1     0      7.2500 S       \n",
       "2 1        1      female 38  1     0     71.2833 C       \n",
       "3 1        3      female 26  0     0      7.9250 S       \n",
       "4 1        1      female 35  1     0     53.1000 S       \n",
       "5 0        3      male   35  0     0      8.0500 S       \n",
       "6 0        3      male   NA  0     0      8.4583 Q       "
      ]
     },
     "metadata": {},
     "output_type": "display_data"
    },
    {
     "data": {
      "text/html": [
       "<dl class=dl-horizontal>\n",
       "\t<dt>Survived</dt>\n",
       "\t\t<dd>0</dd>\n",
       "\t<dt>Pclass</dt>\n",
       "\t\t<dd>0</dd>\n",
       "\t<dt>Sex</dt>\n",
       "\t\t<dd>0</dd>\n",
       "\t<dt>Age</dt>\n",
       "\t\t<dd>177</dd>\n",
       "\t<dt>SibSp</dt>\n",
       "\t\t<dd>0</dd>\n",
       "\t<dt>Parch</dt>\n",
       "\t\t<dd>0</dd>\n",
       "\t<dt>Fare</dt>\n",
       "\t\t<dd>0</dd>\n",
       "\t<dt>Embarked</dt>\n",
       "\t\t<dd>2</dd>\n",
       "</dl>\n"
      ],
      "text/latex": [
       "\\begin{description*}\n",
       "\\item[Survived] 0\n",
       "\\item[Pclass] 0\n",
       "\\item[Sex] 0\n",
       "\\item[Age] 177\n",
       "\\item[SibSp] 0\n",
       "\\item[Parch] 0\n",
       "\\item[Fare] 0\n",
       "\\item[Embarked] 2\n",
       "\\end{description*}\n"
      ],
      "text/markdown": [
       "Survived\n",
       ":   0Pclass\n",
       ":   0Sex\n",
       ":   0Age\n",
       ":   177SibSp\n",
       ":   0Parch\n",
       ":   0Fare\n",
       ":   0Embarked\n",
       ":   2\n",
       "\n"
      ],
      "text/plain": [
       "Survived   Pclass      Sex      Age    SibSp    Parch     Fare Embarked \n",
       "       0        0        0      177        0        0        0        2 "
      ]
     },
     "metadata": {},
     "output_type": "display_data"
    }
   ],
   "source": [
    "#remove Cabin column - too many missing values to infer\n",
    "df <- df %>% select(-Cabin, -PassengerId, -Name, -Ticket)\n",
    "head(df)\n",
    "#check for missing values\n",
    "sapply(df, function(x) sum(is.na(x)))"
   ]
  },
  {
   "cell_type": "markdown",
   "metadata": {},
   "source": [
    "At this point, df contains several missing values in both the Age and Embarked columns. We want to know if the modeling function can handle missing values (like in Azure ML) or if we will have to fix our data. We attepmt to use the glm() model with this imperfect data"
   ]
  },
  {
   "cell_type": "markdown",
   "metadata": {},
   "source": [
    "### 1. Modeling with Missing Values"
   ]
  },
  {
   "cell_type": "code",
   "execution_count": 7,
   "metadata": {},
   "outputs": [
    {
     "data": {
      "text/plain": [
       "\n",
       "Call:\n",
       "glm(formula = Survived ~ ., family = binomial(link = \"logit\"), \n",
       "    data = train)\n",
       "\n",
       "Deviance Residuals: \n",
       "    Min       1Q   Median       3Q      Max  \n",
       "-2.5319  -0.6993  -0.4081   0.6637   2.3737  \n",
       "\n",
       "Coefficients:\n",
       "             Estimate Std. Error z value Pr(>|z|)    \n",
       "(Intercept)  5.395179   0.761617   7.084 1.40e-12 ***\n",
       "Pclass      -1.161281   0.199152  -5.831 5.51e-09 ***\n",
       "Sexmale     -2.569890   0.253866 -10.123  < 2e-16 ***\n",
       "Age         -0.039385   0.009751  -4.039 5.37e-05 ***\n",
       "SibSp       -0.334670   0.145759  -2.296   0.0217 *  \n",
       "Parch        0.027597   0.156123   0.177   0.8597    \n",
       "Fare        -0.002696   0.003232  -0.834   0.4042    \n",
       "EmbarkedQ    0.136894   0.722154   0.190   0.8497    \n",
       "EmbarkedS   -0.303114   0.320984  -0.944   0.3450    \n",
       "---\n",
       "Signif. codes:  0 ‘***’ 0.001 ‘**’ 0.01 ‘*’ 0.05 ‘.’ 0.1 ‘ ’ 1\n",
       "\n",
       "(Dispersion parameter for binomial family taken to be 1)\n",
       "\n",
       "    Null deviance: 667.64  on 491  degrees of freedom\n",
       "Residual deviance: 454.75  on 483  degrees of freedom\n",
       "  (132 observations deleted due to missingness)\n",
       "AIC: 472.75\n",
       "\n",
       "Number of Fisher Scoring iterations: 4\n"
      ]
     },
     "metadata": {},
     "output_type": "display_data"
    }
   ],
   "source": [
    "#split data for training\n",
    "train <- df[1:624, ]\n",
    "test <- df[624:891,]\n",
    "\n",
    "#build model\n",
    "model <- glm(Survived ~. , family = binomial(link = \"logit\"), data = train)\n",
    "summary(model)"
   ]
  },
  {
   "cell_type": "markdown",
   "metadata": {},
   "source": [
    "Now we assess the accuracy of our model"
   ]
  },
  {
   "cell_type": "code",
   "execution_count": 8,
   "metadata": {},
   "outputs": [
    {
     "name": "stdout",
     "output_type": "stream",
     "text": [
      "[1] \"The model is  NA  accurate\"\n"
     ]
    }
   ],
   "source": [
    "results <- predict(model, newdata = select(test, -Survived), type = 'response')\n",
    "results <- ifelse(results > .5, 1, 0)\n",
    "error <- mean(results != test$Survived)\n",
    "print(paste(\"The model is \", error , \" accurate\"))"
   ]
  },
  {
   "cell_type": "markdown",
   "metadata": {},
   "source": [
    "As we can see by our assessment prediction, the entire modeling process does not work with missing values. It is important to note though that our model still classifies and doesn't just crash entirely. Instead it simply returns NA if there were missing values for that specific row in test."
   ]
  },
  {
   "cell_type": "code",
   "execution_count": 9,
   "metadata": {},
   "outputs": [
    {
     "data": {
      "text/html": [
       "<dl class=dl-horizontal>\n",
       "\t<dt>624</dt>\n",
       "\t\t<dd>0</dd>\n",
       "\t<dt>625</dt>\n",
       "\t\t<dd>0</dd>\n",
       "\t<dt>626</dt>\n",
       "\t\t<dd>0</dd>\n",
       "\t<dt>627</dt>\n",
       "\t\t<dd>0</dd>\n",
       "\t<dt>628</dt>\n",
       "\t\t<dd>1</dd>\n",
       "\t<dt>629</dt>\n",
       "\t\t<dd>0</dd>\n",
       "</dl>\n"
      ],
      "text/latex": [
       "\\begin{description*}\n",
       "\\item[624] 0\n",
       "\\item[625] 0\n",
       "\\item[626] 0\n",
       "\\item[627] 0\n",
       "\\item[628] 1\n",
       "\\item[629] 0\n",
       "\\end{description*}\n"
      ],
      "text/markdown": [
       "624\n",
       ":   0625\n",
       ":   0626\n",
       ":   0627\n",
       ":   0628\n",
       ":   1629\n",
       ":   0\n",
       "\n"
      ],
      "text/plain": [
       "624 625 626 627 628 629 \n",
       "  0   0   0   0   1   0 "
      ]
     },
     "metadata": {},
     "output_type": "display_data"
    }
   ],
   "source": [
    "head(results)"
   ]
  },
  {
   "cell_type": "markdown",
   "metadata": {},
   "source": [
    "We can see it did classify some rows, meaning it did not fail completely."
   ]
  },
  {
   "cell_type": "code",
   "execution_count": 10,
   "metadata": {},
   "outputs": [
    {
     "data": {
      "text/html": [
       "47"
      ],
      "text/latex": [
       "47"
      ],
      "text/markdown": [
       "47"
      ],
      "text/plain": [
       "[1] 47"
      ]
     },
     "metadata": {},
     "output_type": "display_data"
    }
   ],
   "source": [
    "sum(is.na(results))"
   ]
  },
  {
   "cell_type": "markdown",
   "metadata": {},
   "source": [
    "Scanning our results for NA values shows that 47 rows did not have predictions out of 267 rows. If we tell R to ignore the NA values in its accuracy assessment we get the following score."
   ]
  },
  {
   "cell_type": "code",
   "execution_count": 11,
   "metadata": {},
   "outputs": [
    {
     "data": {
      "text/html": [
       "0.208144796380091"
      ],
      "text/latex": [
       "0.208144796380091"
      ],
      "text/markdown": [
       "0.208144796380091"
      ],
      "text/plain": [
       "[1] 0.2081448"
      ]
     },
     "metadata": {},
     "output_type": "display_data"
    }
   ],
   "source": [
    "error <- mean(results != test$Survived, na.rm = TRUE)\n",
    "error"
   ]
  },
  {
   "cell_type": "markdown",
   "metadata": {},
   "source": [
    "It appears our model was only 20% accurate, indicating a lot of work needs to be done still and that missing values should be scrubbed."
   ]
  },
  {
   "cell_type": "markdown",
   "metadata": {},
   "source": [
    "### 2. Logistic Regression From Example\n",
    "Using the tutorial featured at, https://www.r-bloggers.com/how-to-perform-a-logistic-regression-in-r/ we test to see if we can reproduce their results"
   ]
  },
  {
   "cell_type": "code",
   "execution_count": 12,
   "metadata": {},
   "outputs": [
    {
     "data": {
      "text/html": [
       "<dl class=dl-horizontal>\n",
       "\t<dt>PassengerId</dt>\n",
       "\t\t<dd>0</dd>\n",
       "\t<dt>Survived</dt>\n",
       "\t\t<dd>0</dd>\n",
       "\t<dt>Pclass</dt>\n",
       "\t\t<dd>0</dd>\n",
       "\t<dt>Name</dt>\n",
       "\t\t<dd>0</dd>\n",
       "\t<dt>Sex</dt>\n",
       "\t\t<dd>0</dd>\n",
       "\t<dt>Age</dt>\n",
       "\t\t<dd>177</dd>\n",
       "\t<dt>SibSp</dt>\n",
       "\t\t<dd>0</dd>\n",
       "\t<dt>Parch</dt>\n",
       "\t\t<dd>0</dd>\n",
       "\t<dt>Ticket</dt>\n",
       "\t\t<dd>0</dd>\n",
       "\t<dt>Fare</dt>\n",
       "\t\t<dd>0</dd>\n",
       "\t<dt>Cabin</dt>\n",
       "\t\t<dd>687</dd>\n",
       "\t<dt>Embarked</dt>\n",
       "\t\t<dd>2</dd>\n",
       "</dl>\n"
      ],
      "text/latex": [
       "\\begin{description*}\n",
       "\\item[PassengerId] 0\n",
       "\\item[Survived] 0\n",
       "\\item[Pclass] 0\n",
       "\\item[Name] 0\n",
       "\\item[Sex] 0\n",
       "\\item[Age] 177\n",
       "\\item[SibSp] 0\n",
       "\\item[Parch] 0\n",
       "\\item[Ticket] 0\n",
       "\\item[Fare] 0\n",
       "\\item[Cabin] 687\n",
       "\\item[Embarked] 2\n",
       "\\end{description*}\n"
      ],
      "text/markdown": [
       "PassengerId\n",
       ":   0Survived\n",
       ":   0Pclass\n",
       ":   0Name\n",
       ":   0Sex\n",
       ":   0Age\n",
       ":   177SibSp\n",
       ":   0Parch\n",
       ":   0Ticket\n",
       ":   0Fare\n",
       ":   0Cabin\n",
       ":   687Embarked\n",
       ":   2\n",
       "\n"
      ],
      "text/plain": [
       "PassengerId    Survived      Pclass        Name         Sex         Age \n",
       "          0           0           0           0           0         177 \n",
       "      SibSp       Parch      Ticket        Fare       Cabin    Embarked \n",
       "          0           0           0           0         687           2 "
      ]
     },
     "metadata": {},
     "output_type": "display_data"
    }
   ],
   "source": [
    "#load messy data\n",
    "df <- read.csv(file = 'datasets/train.csv', na.strings = c(\"\", NA))\n",
    "#look at missing values\n",
    "sapply(df, function(x) sum(is.na(x)))"
   ]
  },
  {
   "cell_type": "code",
   "execution_count": 13,
   "metadata": {},
   "outputs": [
    {
     "data": {
      "text/html": [
       "<dl class=dl-horizontal>\n",
       "\t<dt>PassengerId</dt>\n",
       "\t\t<dd>'integer'</dd>\n",
       "\t<dt>Survived</dt>\n",
       "\t\t<dd>'integer'</dd>\n",
       "\t<dt>Pclass</dt>\n",
       "\t\t<dd>'integer'</dd>\n",
       "\t<dt>Name</dt>\n",
       "\t\t<dd>'factor'</dd>\n",
       "\t<dt>Sex</dt>\n",
       "\t\t<dd>'factor'</dd>\n",
       "\t<dt>Age</dt>\n",
       "\t\t<dd>'numeric'</dd>\n",
       "\t<dt>SibSp</dt>\n",
       "\t\t<dd>'integer'</dd>\n",
       "\t<dt>Parch</dt>\n",
       "\t\t<dd>'integer'</dd>\n",
       "\t<dt>Ticket</dt>\n",
       "\t\t<dd>'factor'</dd>\n",
       "\t<dt>Fare</dt>\n",
       "\t\t<dd>'numeric'</dd>\n",
       "\t<dt>Cabin</dt>\n",
       "\t\t<dd>'factor'</dd>\n",
       "\t<dt>Embarked</dt>\n",
       "\t\t<dd>'factor'</dd>\n",
       "</dl>\n"
      ],
      "text/latex": [
       "\\begin{description*}\n",
       "\\item[PassengerId] 'integer'\n",
       "\\item[Survived] 'integer'\n",
       "\\item[Pclass] 'integer'\n",
       "\\item[Name] 'factor'\n",
       "\\item[Sex] 'factor'\n",
       "\\item[Age] 'numeric'\n",
       "\\item[SibSp] 'integer'\n",
       "\\item[Parch] 'integer'\n",
       "\\item[Ticket] 'factor'\n",
       "\\item[Fare] 'numeric'\n",
       "\\item[Cabin] 'factor'\n",
       "\\item[Embarked] 'factor'\n",
       "\\end{description*}\n"
      ],
      "text/markdown": [
       "PassengerId\n",
       ":   'integer'Survived\n",
       ":   'integer'Pclass\n",
       ":   'integer'Name\n",
       ":   'factor'Sex\n",
       ":   'factor'Age\n",
       ":   'numeric'SibSp\n",
       ":   'integer'Parch\n",
       ":   'integer'Ticket\n",
       ":   'factor'Fare\n",
       ":   'numeric'Cabin\n",
       ":   'factor'Embarked\n",
       ":   'factor'\n",
       "\n"
      ],
      "text/plain": [
       "PassengerId    Survived      Pclass        Name         Sex         Age \n",
       "  \"integer\"   \"integer\"   \"integer\"    \"factor\"    \"factor\"   \"numeric\" \n",
       "      SibSp       Parch      Ticket        Fare       Cabin    Embarked \n",
       "  \"integer\"   \"integer\"    \"factor\"   \"numeric\"    \"factor\"    \"factor\" "
      ]
     },
     "metadata": {},
     "output_type": "display_data"
    }
   ],
   "source": [
    "#Look at different types of variables\n",
    "sapply(df, function(x) class(x))"
   ]
  },
  {
   "cell_type": "code",
   "execution_count": 14,
   "metadata": {},
   "outputs": [
    {
     "data": {
      "text/html": [
       "<dl class=dl-horizontal>\n",
       "\t<dt>PassengerId</dt>\n",
       "\t\t<dd>891</dd>\n",
       "\t<dt>Survived</dt>\n",
       "\t\t<dd>2</dd>\n",
       "\t<dt>Pclass</dt>\n",
       "\t\t<dd>3</dd>\n",
       "\t<dt>Name</dt>\n",
       "\t\t<dd>891</dd>\n",
       "\t<dt>Sex</dt>\n",
       "\t\t<dd>2</dd>\n",
       "\t<dt>Age</dt>\n",
       "\t\t<dd>89</dd>\n",
       "\t<dt>SibSp</dt>\n",
       "\t\t<dd>7</dd>\n",
       "\t<dt>Parch</dt>\n",
       "\t\t<dd>7</dd>\n",
       "\t<dt>Ticket</dt>\n",
       "\t\t<dd>681</dd>\n",
       "\t<dt>Fare</dt>\n",
       "\t\t<dd>248</dd>\n",
       "\t<dt>Cabin</dt>\n",
       "\t\t<dd>148</dd>\n",
       "\t<dt>Embarked</dt>\n",
       "\t\t<dd>4</dd>\n",
       "</dl>\n"
      ],
      "text/latex": [
       "\\begin{description*}\n",
       "\\item[PassengerId] 891\n",
       "\\item[Survived] 2\n",
       "\\item[Pclass] 3\n",
       "\\item[Name] 891\n",
       "\\item[Sex] 2\n",
       "\\item[Age] 89\n",
       "\\item[SibSp] 7\n",
       "\\item[Parch] 7\n",
       "\\item[Ticket] 681\n",
       "\\item[Fare] 248\n",
       "\\item[Cabin] 148\n",
       "\\item[Embarked] 4\n",
       "\\end{description*}\n"
      ],
      "text/markdown": [
       "PassengerId\n",
       ":   891Survived\n",
       ":   2Pclass\n",
       ":   3Name\n",
       ":   891Sex\n",
       ":   2Age\n",
       ":   89SibSp\n",
       ":   7Parch\n",
       ":   7Ticket\n",
       ":   681Fare\n",
       ":   248Cabin\n",
       ":   148Embarked\n",
       ":   4\n",
       "\n"
      ],
      "text/plain": [
       "PassengerId    Survived      Pclass        Name         Sex         Age \n",
       "        891           2           3         891           2          89 \n",
       "      SibSp       Parch      Ticket        Fare       Cabin    Embarked \n",
       "          7           7         681         248         148           4 "
      ]
     },
     "metadata": {},
     "output_type": "display_data"
    }
   ],
   "source": [
    "#look at number of different values by each column\n",
    "sapply(df, function(x) length(unique(x)))"
   ]
  },
  {
   "cell_type": "markdown",
   "metadata": {},
   "source": [
    "Cabin has so many missing values we will drop Cabin altogether because it would be too difficult to impute the Cabin. PassengerId is useless as it is just an identifier so we drop it as well. The same occurs with Ticket and Name"
   ]
  },
  {
   "cell_type": "code",
   "execution_count": 15,
   "metadata": {},
   "outputs": [
    {
     "data": {
      "text/html": [
       "<table>\n",
       "<thead><tr><th scope=col>Survived</th><th scope=col>Pclass</th><th scope=col>Sex</th><th scope=col>Age</th><th scope=col>SibSp</th><th scope=col>Parch</th><th scope=col>Fare</th><th scope=col>Embarked</th></tr></thead>\n",
       "<tbody>\n",
       "\t<tr><td>0      </td><td>3      </td><td>male   </td><td>22     </td><td>1      </td><td>0      </td><td> 7.2500</td><td>S      </td></tr>\n",
       "\t<tr><td>1      </td><td>1      </td><td>female </td><td>38     </td><td>1      </td><td>0      </td><td>71.2833</td><td>C      </td></tr>\n",
       "\t<tr><td>1      </td><td>3      </td><td>female </td><td>26     </td><td>0      </td><td>0      </td><td> 7.9250</td><td>S      </td></tr>\n",
       "\t<tr><td>1      </td><td>1      </td><td>female </td><td>35     </td><td>1      </td><td>0      </td><td>53.1000</td><td>S      </td></tr>\n",
       "\t<tr><td>0      </td><td>3      </td><td>male   </td><td>35     </td><td>0      </td><td>0      </td><td> 8.0500</td><td>S      </td></tr>\n",
       "\t<tr><td>0      </td><td>3      </td><td>male   </td><td>NA     </td><td>0      </td><td>0      </td><td> 8.4583</td><td>Q      </td></tr>\n",
       "</tbody>\n",
       "</table>\n"
      ],
      "text/latex": [
       "\\begin{tabular}{r|llllllll}\n",
       " Survived & Pclass & Sex & Age & SibSp & Parch & Fare & Embarked\\\\\n",
       "\\hline\n",
       "\t 0       & 3       & male    & 22      & 1       & 0       &  7.2500 & S      \\\\\n",
       "\t 1       & 1       & female  & 38      & 1       & 0       & 71.2833 & C      \\\\\n",
       "\t 1       & 3       & female  & 26      & 0       & 0       &  7.9250 & S      \\\\\n",
       "\t 1       & 1       & female  & 35      & 1       & 0       & 53.1000 & S      \\\\\n",
       "\t 0       & 3       & male    & 35      & 0       & 0       &  8.0500 & S      \\\\\n",
       "\t 0       & 3       & male    & NA      & 0       & 0       &  8.4583 & Q      \\\\\n",
       "\\end{tabular}\n"
      ],
      "text/markdown": [
       "\n",
       "Survived | Pclass | Sex | Age | SibSp | Parch | Fare | Embarked | \n",
       "|---|---|---|---|---|---|\n",
       "| 0       | 3       | male    | 22      | 1       | 0       |  7.2500 | S       | \n",
       "| 1       | 1       | female  | 38      | 1       | 0       | 71.2833 | C       | \n",
       "| 1       | 3       | female  | 26      | 0       | 0       |  7.9250 | S       | \n",
       "| 1       | 1       | female  | 35      | 1       | 0       | 53.1000 | S       | \n",
       "| 0       | 3       | male    | 35      | 0       | 0       |  8.0500 | S       | \n",
       "| 0       | 3       | male    | NA      | 0       | 0       |  8.4583 | Q       | \n",
       "\n",
       "\n"
      ],
      "text/plain": [
       "  Survived Pclass Sex    Age SibSp Parch Fare    Embarked\n",
       "1 0        3      male   22  1     0      7.2500 S       \n",
       "2 1        1      female 38  1     0     71.2833 C       \n",
       "3 1        3      female 26  0     0      7.9250 S       \n",
       "4 1        1      female 35  1     0     53.1000 S       \n",
       "5 0        3      male   35  0     0      8.0500 S       \n",
       "6 0        3      male   NA  0     0      8.4583 Q       "
      ]
     },
     "metadata": {},
     "output_type": "display_data"
    }
   ],
   "source": [
    "df <- df %>% select(-Cabin, -PassengerId, -Ticket, -Name)\n",
    "head(df)"
   ]
  },
  {
   "cell_type": "code",
   "execution_count": 16,
   "metadata": {},
   "outputs": [
    {
     "data": {
      "text/html": [
       "<table>\n",
       "<thead><tr><th scope=col>Survived</th><th scope=col>Pclass</th><th scope=col>Sex</th><th scope=col>Age</th><th scope=col>SibSp</th><th scope=col>Parch</th><th scope=col>Fare</th><th scope=col>Embarked</th></tr></thead>\n",
       "<tbody>\n",
       "\t<tr><td>0       </td><td>3       </td><td>male    </td><td>22.00000</td><td>1       </td><td>0       </td><td> 7.2500 </td><td>S       </td></tr>\n",
       "\t<tr><td>1       </td><td>1       </td><td>female  </td><td>38.00000</td><td>1       </td><td>0       </td><td>71.2833 </td><td>C       </td></tr>\n",
       "\t<tr><td>1       </td><td>3       </td><td>female  </td><td>26.00000</td><td>0       </td><td>0       </td><td> 7.9250 </td><td>S       </td></tr>\n",
       "\t<tr><td>1       </td><td>1       </td><td>female  </td><td>35.00000</td><td>1       </td><td>0       </td><td>53.1000 </td><td>S       </td></tr>\n",
       "\t<tr><td>0       </td><td>3       </td><td>male    </td><td>35.00000</td><td>0       </td><td>0       </td><td> 8.0500 </td><td>S       </td></tr>\n",
       "\t<tr><td>0       </td><td>3       </td><td>male    </td><td>29.69912</td><td>0       </td><td>0       </td><td> 8.4583 </td><td>Q       </td></tr>\n",
       "</tbody>\n",
       "</table>\n"
      ],
      "text/latex": [
       "\\begin{tabular}{r|llllllll}\n",
       " Survived & Pclass & Sex & Age & SibSp & Parch & Fare & Embarked\\\\\n",
       "\\hline\n",
       "\t 0        & 3        & male     & 22.00000 & 1        & 0        &  7.2500  & S       \\\\\n",
       "\t 1        & 1        & female   & 38.00000 & 1        & 0        & 71.2833  & C       \\\\\n",
       "\t 1        & 3        & female   & 26.00000 & 0        & 0        &  7.9250  & S       \\\\\n",
       "\t 1        & 1        & female   & 35.00000 & 1        & 0        & 53.1000  & S       \\\\\n",
       "\t 0        & 3        & male     & 35.00000 & 0        & 0        &  8.0500  & S       \\\\\n",
       "\t 0        & 3        & male     & 29.69912 & 0        & 0        &  8.4583  & Q       \\\\\n",
       "\\end{tabular}\n"
      ],
      "text/markdown": [
       "\n",
       "Survived | Pclass | Sex | Age | SibSp | Parch | Fare | Embarked | \n",
       "|---|---|---|---|---|---|\n",
       "| 0        | 3        | male     | 22.00000 | 1        | 0        |  7.2500  | S        | \n",
       "| 1        | 1        | female   | 38.00000 | 1        | 0        | 71.2833  | C        | \n",
       "| 1        | 3        | female   | 26.00000 | 0        | 0        |  7.9250  | S        | \n",
       "| 1        | 1        | female   | 35.00000 | 1        | 0        | 53.1000  | S        | \n",
       "| 0        | 3        | male     | 35.00000 | 0        | 0        |  8.0500  | S        | \n",
       "| 0        | 3        | male     | 29.69912 | 0        | 0        |  8.4583  | Q        | \n",
       "\n",
       "\n"
      ],
      "text/plain": [
       "  Survived Pclass Sex    Age      SibSp Parch Fare    Embarked\n",
       "1 0        3      male   22.00000 1     0      7.2500 S       \n",
       "2 1        1      female 38.00000 1     0     71.2833 C       \n",
       "3 1        3      female 26.00000 0     0      7.9250 S       \n",
       "4 1        1      female 35.00000 1     0     53.1000 S       \n",
       "5 0        3      male   35.00000 0     0      8.0500 S       \n",
       "6 0        3      male   29.69912 0     0      8.4583 Q       "
      ]
     },
     "metadata": {},
     "output_type": "display_data"
    }
   ],
   "source": [
    "#fix missing age values with the mean age\n",
    "meanAge <- mean(df$Age, na.rm = TRUE)\n",
    "df$Age[is.na(df$Age)] <- meanAge\n",
    "head(df)"
   ]
  },
  {
   "cell_type": "code",
   "execution_count": 17,
   "metadata": {},
   "outputs": [
    {
     "data": {
      "text/html": [
       "<table>\n",
       "<thead><tr><th></th><th scope=col>male</th></tr></thead>\n",
       "<tbody>\n",
       "\t<tr><th scope=row>female</th><td>0</td></tr>\n",
       "\t<tr><th scope=row>male</th><td>1</td></tr>\n",
       "</tbody>\n",
       "</table>\n"
      ],
      "text/latex": [
       "\\begin{tabular}{r|l}\n",
       "  & male\\\\\n",
       "\\hline\n",
       "\tfemale & 0\\\\\n",
       "\tmale & 1\\\\\n",
       "\\end{tabular}\n"
      ],
      "text/markdown": [
       "\n",
       "| <!--/--> | male | \n",
       "|---|---|\n",
       "| female | 0 | \n",
       "| male | 1 | \n",
       "\n",
       "\n"
      ],
      "text/plain": [
       "       male\n",
       "female 0   \n",
       "male   1   "
      ]
     },
     "metadata": {},
     "output_type": "display_data"
    },
    {
     "data": {
      "text/html": [
       "<table>\n",
       "<thead><tr><th></th><th scope=col>Q</th><th scope=col>S</th></tr></thead>\n",
       "<tbody>\n",
       "\t<tr><th scope=row>C</th><td>0</td><td>0</td></tr>\n",
       "\t<tr><th scope=row>Q</th><td>1</td><td>0</td></tr>\n",
       "\t<tr><th scope=row>S</th><td>0</td><td>1</td></tr>\n",
       "</tbody>\n",
       "</table>\n"
      ],
      "text/latex": [
       "\\begin{tabular}{r|ll}\n",
       "  & Q & S\\\\\n",
       "\\hline\n",
       "\tC & 0 & 0\\\\\n",
       "\tQ & 1 & 0\\\\\n",
       "\tS & 0 & 1\\\\\n",
       "\\end{tabular}\n"
      ],
      "text/markdown": [
       "\n",
       "| <!--/--> | Q | S | \n",
       "|---|---|---|\n",
       "| C | 0 | 0 | \n",
       "| Q | 1 | 0 | \n",
       "| S | 0 | 1 | \n",
       "\n",
       "\n"
      ],
      "text/plain": [
       "  Q S\n",
       "C 0 0\n",
       "Q 1 0\n",
       "S 0 1"
      ]
     },
     "metadata": {},
     "output_type": "display_data"
    }
   ],
   "source": [
    "contrasts(df$Sex)\n",
    "contrasts(df$Embarked)"
   ]
  },
  {
   "cell_type": "code",
   "execution_count": 18,
   "metadata": {},
   "outputs": [
    {
     "data": {
      "text/html": [
       "<ol class=list-inline>\n",
       "\t<li>889</li>\n",
       "\t<li>8</li>\n",
       "</ol>\n"
      ],
      "text/latex": [
       "\\begin{enumerate*}\n",
       "\\item 889\n",
       "\\item 8\n",
       "\\end{enumerate*}\n"
      ],
      "text/markdown": [
       "1. 889\n",
       "2. 8\n",
       "\n",
       "\n"
      ],
      "text/plain": [
       "[1] 889   8"
      ]
     },
     "metadata": {},
     "output_type": "display_data"
    },
    {
     "data": {
      "text/html": [
       "<dl class=dl-horizontal>\n",
       "\t<dt>Survived</dt>\n",
       "\t\t<dd>0</dd>\n",
       "\t<dt>Pclass</dt>\n",
       "\t\t<dd>0</dd>\n",
       "\t<dt>Sex</dt>\n",
       "\t\t<dd>0</dd>\n",
       "\t<dt>Age</dt>\n",
       "\t\t<dd>0</dd>\n",
       "\t<dt>SibSp</dt>\n",
       "\t\t<dd>0</dd>\n",
       "\t<dt>Parch</dt>\n",
       "\t\t<dd>0</dd>\n",
       "\t<dt>Fare</dt>\n",
       "\t\t<dd>0</dd>\n",
       "\t<dt>Embarked</dt>\n",
       "\t\t<dd>0</dd>\n",
       "</dl>\n"
      ],
      "text/latex": [
       "\\begin{description*}\n",
       "\\item[Survived] 0\n",
       "\\item[Pclass] 0\n",
       "\\item[Sex] 0\n",
       "\\item[Age] 0\n",
       "\\item[SibSp] 0\n",
       "\\item[Parch] 0\n",
       "\\item[Fare] 0\n",
       "\\item[Embarked] 0\n",
       "\\end{description*}\n"
      ],
      "text/markdown": [
       "Survived\n",
       ":   0Pclass\n",
       ":   0Sex\n",
       ":   0Age\n",
       ":   0SibSp\n",
       ":   0Parch\n",
       ":   0Fare\n",
       ":   0Embarked\n",
       ":   0\n",
       "\n"
      ],
      "text/plain": [
       "Survived   Pclass      Sex      Age    SibSp    Parch     Fare Embarked \n",
       "       0        0        0        0        0        0        0        0 "
      ]
     },
     "metadata": {},
     "output_type": "display_data"
    }
   ],
   "source": [
    "#remove the rows with NA values for embarked - there were 2\n",
    "df <- df %>% filter(complete.cases(Embarked))\n",
    "dim(df)\n",
    "#check situation of missing values\n",
    "sapply(df, function(x) sum(is.na(x)))"
   ]
  },
  {
   "cell_type": "markdown",
   "metadata": {},
   "source": [
    "As we can see above, there are no longer any missing data values"
   ]
  },
  {
   "cell_type": "markdown",
   "metadata": {},
   "source": [
    "Now we move onto modeling. First we will split our data"
   ]
  },
  {
   "cell_type": "code",
   "execution_count": 19,
   "metadata": {
    "collapsed": true
   },
   "outputs": [],
   "source": [
    "train <- df[1:800, ]\n",
    "test <- df[801:889, ]"
   ]
  },
  {
   "cell_type": "markdown",
   "metadata": {},
   "source": [
    "Then we build our model"
   ]
  },
  {
   "cell_type": "code",
   "execution_count": 20,
   "metadata": {},
   "outputs": [
    {
     "data": {
      "text/plain": [
       "\n",
       "Call:\n",
       "glm(formula = Survived ~ ., family = binomial(link = \"logit\"), \n",
       "    data = train)\n",
       "\n",
       "Deviance Residuals: \n",
       "    Min       1Q   Median       3Q      Max  \n",
       "-2.6064  -0.5954  -0.4254   0.6220   2.4165  \n",
       "\n",
       "Coefficients:\n",
       "             Estimate Std. Error z value Pr(>|z|)    \n",
       "(Intercept)  5.137627   0.594998   8.635  < 2e-16 ***\n",
       "Pclass      -1.087156   0.151168  -7.192 6.40e-13 ***\n",
       "Sexmale     -2.756819   0.212026 -13.002  < 2e-16 ***\n",
       "Age         -0.037267   0.008195  -4.547 5.43e-06 ***\n",
       "SibSp       -0.292920   0.114642  -2.555   0.0106 *  \n",
       "Parch       -0.116576   0.128127  -0.910   0.3629    \n",
       "Fare         0.001528   0.002353   0.649   0.5160    \n",
       "EmbarkedQ   -0.002656   0.400882  -0.007   0.9947    \n",
       "EmbarkedS   -0.318786   0.252960  -1.260   0.2076    \n",
       "---\n",
       "Signif. codes:  0 ‘***’ 0.001 ‘**’ 0.01 ‘*’ 0.05 ‘.’ 0.1 ‘ ’ 1\n",
       "\n",
       "(Dispersion parameter for binomial family taken to be 1)\n",
       "\n",
       "    Null deviance: 1065.39  on 799  degrees of freedom\n",
       "Residual deviance:  709.39  on 791  degrees of freedom\n",
       "AIC: 727.39\n",
       "\n",
       "Number of Fisher Scoring iterations: 5\n"
      ]
     },
     "metadata": {},
     "output_type": "display_data"
    }
   ],
   "source": [
    "model <- glm(Survived ~., family = binomial(link = 'logit'), data = train)\n",
    "summary(model)"
   ]
  },
  {
   "cell_type": "markdown",
   "metadata": {},
   "source": [
    "Analyzing the model output, it appears SibSp, Parch, Fare, and Embarked are not statistically significant because their p-values are greater than .05. Of our statistically significant predictors, Sex has the lowest p-value, indicating it it is the strongest predictor of survival. Now we want to analyze the table of deviance so we run the anova() function on our model."
   ]
  },
  {
   "cell_type": "code",
   "execution_count": 21,
   "metadata": {},
   "outputs": [
    {
     "data": {
      "text/html": [
       "<table>\n",
       "<thead><tr><th></th><th scope=col>Df</th><th scope=col>Deviance</th><th scope=col>Resid. Df</th><th scope=col>Resid. Dev</th><th scope=col>Pr(&gt;Chi)</th></tr></thead>\n",
       "<tbody>\n",
       "\t<tr><th scope=row>NULL</th><td>NA          </td><td>         NA </td><td>799         </td><td>1065.3922   </td><td>          NA</td></tr>\n",
       "\t<tr><th scope=row>Pclass</th><td> 1          </td><td> 83.6069449 </td><td>798         </td><td> 981.7853   </td><td>6.036064e-20</td></tr>\n",
       "\t<tr><th scope=row>Sex</th><td> 1          </td><td>240.0135513 </td><td>797         </td><td> 741.7717   </td><td>3.906166e-54</td></tr>\n",
       "\t<tr><th scope=row>Age</th><td> 1          </td><td> 17.4946765 </td><td>796         </td><td> 724.2770   </td><td>2.881133e-05</td></tr>\n",
       "\t<tr><th scope=row>SibSp</th><td> 1          </td><td> 10.8423921 </td><td>795         </td><td> 713.4346   </td><td>9.920249e-04</td></tr>\n",
       "\t<tr><th scope=row>Parch</th><td> 1          </td><td>  0.8630972 </td><td>794         </td><td> 712.5715   </td><td>3.528734e-01</td></tr>\n",
       "\t<tr><th scope=row>Fare</th><td> 1          </td><td>  0.9942053 </td><td>793         </td><td> 711.5773   </td><td>3.187167e-01</td></tr>\n",
       "\t<tr><th scope=row>Embarked</th><td> 2          </td><td>  2.1873120 </td><td>791         </td><td> 709.3900   </td><td>3.349895e-01</td></tr>\n",
       "</tbody>\n",
       "</table>\n"
      ],
      "text/latex": [
       "\\begin{tabular}{r|lllll}\n",
       "  & Df & Deviance & Resid. Df & Resid. Dev & Pr(>Chi)\\\\\n",
       "\\hline\n",
       "\tNULL & NA           &          NA  & 799          & 1065.3922    &           NA\\\\\n",
       "\tPclass &  1           &  83.6069449  & 798          &  981.7853    & 6.036064e-20\\\\\n",
       "\tSex &  1           & 240.0135513  & 797          &  741.7717    & 3.906166e-54\\\\\n",
       "\tAge &  1           &  17.4946765  & 796          &  724.2770    & 2.881133e-05\\\\\n",
       "\tSibSp &  1           &  10.8423921  & 795          &  713.4346    & 9.920249e-04\\\\\n",
       "\tParch &  1           &   0.8630972  & 794          &  712.5715    & 3.528734e-01\\\\\n",
       "\tFare &  1           &   0.9942053  & 793          &  711.5773    & 3.187167e-01\\\\\n",
       "\tEmbarked &  2           &   2.1873120  & 791          &  709.3900    & 3.349895e-01\\\\\n",
       "\\end{tabular}\n"
      ],
      "text/markdown": [
       "\n",
       "| <!--/--> | Df | Deviance | Resid. Df | Resid. Dev | Pr(>Chi) | \n",
       "|---|---|---|---|---|---|---|---|\n",
       "| NULL | NA           |          NA  | 799          | 1065.3922    |           NA | \n",
       "| Pclass |  1           |  83.6069449  | 798          |  981.7853    | 6.036064e-20 | \n",
       "| Sex |  1           | 240.0135513  | 797          |  741.7717    | 3.906166e-54 | \n",
       "| Age |  1           |  17.4946765  | 796          |  724.2770    | 2.881133e-05 | \n",
       "| SibSp |  1           |  10.8423921  | 795          |  713.4346    | 9.920249e-04 | \n",
       "| Parch |  1           |   0.8630972  | 794          |  712.5715    | 3.528734e-01 | \n",
       "| Fare |  1           |   0.9942053  | 793          |  711.5773    | 3.187167e-01 | \n",
       "| Embarked |  2           |   2.1873120  | 791          |  709.3900    | 3.349895e-01 | \n",
       "\n",
       "\n"
      ],
      "text/plain": [
       "         Df Deviance    Resid. Df Resid. Dev Pr(>Chi)    \n",
       "NULL     NA          NA 799       1065.3922            NA\n",
       "Pclass    1  83.6069449 798        981.7853  6.036064e-20\n",
       "Sex       1 240.0135513 797        741.7717  3.906166e-54\n",
       "Age       1  17.4946765 796        724.2770  2.881133e-05\n",
       "SibSp     1  10.8423921 795        713.4346  9.920249e-04\n",
       "Parch     1   0.8630972 794        712.5715  3.528734e-01\n",
       "Fare      1   0.9942053 793        711.5773  3.187167e-01\n",
       "Embarked  2   2.1873120 791        709.3900  3.349895e-01"
      ]
     },
     "metadata": {},
     "output_type": "display_data"
    }
   ],
   "source": [
    "anova(model, test = 'Chisq')"
   ]
  },
  {
   "cell_type": "markdown",
   "metadata": {},
   "source": [
    "Now that we have analyzed our model, it is time to test our model. Below we run our test data and count its accuracy"
   ]
  },
  {
   "cell_type": "code",
   "execution_count": 22,
   "metadata": {},
   "outputs": [
    {
     "data": {
      "text/html": [
       "<dl class=dl-horizontal>\n",
       "\t<dt>801</dt>\n",
       "\t\t<dd>1</dd>\n",
       "\t<dt>802</dt>\n",
       "\t\t<dd>1</dd>\n",
       "\t<dt>803</dt>\n",
       "\t\t<dd>0</dd>\n",
       "\t<dt>804</dt>\n",
       "\t\t<dd>0</dd>\n",
       "\t<dt>805</dt>\n",
       "\t\t<dd>0</dd>\n",
       "\t<dt>806</dt>\n",
       "\t\t<dd>0</dd>\n",
       "</dl>\n"
      ],
      "text/latex": [
       "\\begin{description*}\n",
       "\\item[801] 1\n",
       "\\item[802] 1\n",
       "\\item[803] 0\n",
       "\\item[804] 0\n",
       "\\item[805] 0\n",
       "\\item[806] 0\n",
       "\\end{description*}\n"
      ],
      "text/markdown": [
       "801\n",
       ":   1802\n",
       ":   1803\n",
       ":   0804\n",
       ":   0805\n",
       ":   0806\n",
       ":   0\n",
       "\n"
      ],
      "text/plain": [
       "801 802 803 804 805 806 \n",
       "  1   1   0   0   0   0 "
      ]
     },
     "metadata": {},
     "output_type": "display_data"
    }
   ],
   "source": [
    "#predict and then score model\n",
    "fitted.results <- predict(model, newdata = test %>% select(-Survived), type = 'response')\n",
    "fitted.results <- ifelse(fitted.results > .5, 1, 0)\n",
    "head(fitted.results)"
   ]
  },
  {
   "cell_type": "code",
   "execution_count": 23,
   "metadata": {},
   "outputs": [
    {
     "name": "stdout",
     "output_type": "stream",
     "text": [
      "[1] \"Our logistical regression classifier is  0.842696629213483 accurate or  84.2696629213483 % accurate\"\n"
     ]
    }
   ],
   "source": [
    "# calculate error\n",
    "error <- mean(fitted.results != test$Survived)\n",
    "print(paste('Our logistical regression classifier is ', 1 - error, 'accurate or ', (1 - error) * 100, '% accurate'))"
   ]
  },
  {
   "cell_type": "markdown",
   "metadata": {},
   "source": [
    "This is the same accuracy as the website tutorial and we have verified the results"
   ]
  },
  {
   "cell_type": "markdown",
   "metadata": {},
   "source": [
    "### 3. Using only some predictors"
   ]
  },
  {
   "cell_type": "markdown",
   "metadata": {
    "collapsed": true
   },
   "source": [
    "Looking at the previous model, we can identify which predictors provided the strongest correlation with survival rates. We are now going to see if only using some predictors instead of all variables can improve our performance."
   ]
  },
  {
   "cell_type": "code",
   "execution_count": 24,
   "metadata": {},
   "outputs": [
    {
     "data": {
      "text/html": [
       "<dl class=dl-horizontal>\n",
       "\t<dt>PassengerId</dt>\n",
       "\t\t<dd>0</dd>\n",
       "\t<dt>Survived</dt>\n",
       "\t\t<dd>0</dd>\n",
       "\t<dt>Pclass</dt>\n",
       "\t\t<dd>0</dd>\n",
       "\t<dt>Name</dt>\n",
       "\t\t<dd>0</dd>\n",
       "\t<dt>Sex</dt>\n",
       "\t\t<dd>0</dd>\n",
       "\t<dt>Age</dt>\n",
       "\t\t<dd>0</dd>\n",
       "\t<dt>SibSp</dt>\n",
       "\t\t<dd>0</dd>\n",
       "\t<dt>Parch</dt>\n",
       "\t\t<dd>0</dd>\n",
       "\t<dt>Ticket</dt>\n",
       "\t\t<dd>0</dd>\n",
       "\t<dt>Fare</dt>\n",
       "\t\t<dd>0</dd>\n",
       "\t<dt>Embarked</dt>\n",
       "\t\t<dd>0</dd>\n",
       "</dl>\n"
      ],
      "text/latex": [
       "\\begin{description*}\n",
       "\\item[PassengerId] 0\n",
       "\\item[Survived] 0\n",
       "\\item[Pclass] 0\n",
       "\\item[Name] 0\n",
       "\\item[Sex] 0\n",
       "\\item[Age] 0\n",
       "\\item[SibSp] 0\n",
       "\\item[Parch] 0\n",
       "\\item[Ticket] 0\n",
       "\\item[Fare] 0\n",
       "\\item[Embarked] 0\n",
       "\\end{description*}\n"
      ],
      "text/markdown": [
       "PassengerId\n",
       ":   0Survived\n",
       ":   0Pclass\n",
       ":   0Name\n",
       ":   0Sex\n",
       ":   0Age\n",
       ":   0SibSp\n",
       ":   0Parch\n",
       ":   0Ticket\n",
       ":   0Fare\n",
       ":   0Embarked\n",
       ":   0\n",
       "\n"
      ],
      "text/plain": [
       "PassengerId    Survived      Pclass        Name         Sex         Age \n",
       "          0           0           0           0           0           0 \n",
       "      SibSp       Parch      Ticket        Fare    Embarked \n",
       "          0           0           0           0           0 "
      ]
     },
     "metadata": {},
     "output_type": "display_data"
    }
   ],
   "source": [
    "#Reading/Tidying data to prepare for model\n",
    "df <- read.csv(file = 'datasets/train_edited.csv', na.strings = c(\"\", NA))\n",
    "sapply(df, function(x) sum(is.na(x)))"
   ]
  },
  {
   "cell_type": "markdown",
   "metadata": {},
   "source": [
    "Here we are only going to use the Pclass, Sex, and Age variables"
   ]
  },
  {
   "cell_type": "code",
   "execution_count": 25,
   "metadata": {},
   "outputs": [],
   "source": [
    "df <- df %>% select(Survived, Pclass, Sex, Age)\n",
    "train <- df[1:800, ]\n",
    "test <- df[801:889, ]"
   ]
  },
  {
   "cell_type": "code",
   "execution_count": 26,
   "metadata": {},
   "outputs": [
    {
     "data": {
      "text/plain": [
       "\n",
       "Call:\n",
       "glm(formula = Survived ~ ., family = binomial(link = \"logit\"), \n",
       "    data = train)\n",
       "\n",
       "Deviance Residuals: \n",
       "    Min       1Q   Median       3Q      Max  \n",
       "-2.6320  -0.6570  -0.4239   0.6420   2.4093  \n",
       "\n",
       "Coefficients:\n",
       "             Estimate Std. Error z value Pr(>|z|)    \n",
       "(Intercept)  4.633935   0.472667   9.804  < 2e-16 ***\n",
       "Pclass      -1.139026   0.125153  -9.101  < 2e-16 ***\n",
       "Sexmale     -2.646164   0.197657 -13.388  < 2e-16 ***\n",
       "Age         -0.031477   0.007724  -4.075  4.6e-05 ***\n",
       "---\n",
       "Signif. codes:  0 ‘***’ 0.001 ‘**’ 0.01 ‘*’ 0.05 ‘.’ 0.1 ‘ ’ 1\n",
       "\n",
       "(Dispersion parameter for binomial family taken to be 1)\n",
       "\n",
       "    Null deviance: 1065.39  on 799  degrees of freedom\n",
       "Residual deviance:  724.28  on 796  degrees of freedom\n",
       "AIC: 732.28\n",
       "\n",
       "Number of Fisher Scoring iterations: 4\n"
      ]
     },
     "metadata": {},
     "output_type": "display_data"
    }
   ],
   "source": [
    "model <- glm(Survived ~., family = binomial(link = 'logit'), data = train)\n",
    "summary(model)"
   ]
  },
  {
   "cell_type": "code",
   "execution_count": 27,
   "metadata": {},
   "outputs": [
    {
     "data": {
      "text/html": [
       "<table>\n",
       "<thead><tr><th></th><th scope=col>Df</th><th scope=col>Deviance</th><th scope=col>Resid. Df</th><th scope=col>Resid. Dev</th><th scope=col>Pr(&gt;Chi)</th></tr></thead>\n",
       "<tbody>\n",
       "\t<tr><th scope=row>NULL</th><td>NA          </td><td>       NA   </td><td>799         </td><td>1065.3922   </td><td>          NA</td></tr>\n",
       "\t<tr><th scope=row>Pclass</th><td> 1          </td><td> 83.60694   </td><td>798         </td><td> 981.7853   </td><td>6.036064e-20</td></tr>\n",
       "\t<tr><th scope=row>Sex</th><td> 1          </td><td>240.01355   </td><td>797         </td><td> 741.7717   </td><td>3.906166e-54</td></tr>\n",
       "\t<tr><th scope=row>Age</th><td> 1          </td><td> 17.49468   </td><td>796         </td><td> 724.2770   </td><td>2.881133e-05</td></tr>\n",
       "</tbody>\n",
       "</table>\n"
      ],
      "text/latex": [
       "\\begin{tabular}{r|lllll}\n",
       "  & Df & Deviance & Resid. Df & Resid. Dev & Pr(>Chi)\\\\\n",
       "\\hline\n",
       "\tNULL & NA           &        NA    & 799          & 1065.3922    &           NA\\\\\n",
       "\tPclass &  1           &  83.60694    & 798          &  981.7853    & 6.036064e-20\\\\\n",
       "\tSex &  1           & 240.01355    & 797          &  741.7717    & 3.906166e-54\\\\\n",
       "\tAge &  1           &  17.49468    & 796          &  724.2770    & 2.881133e-05\\\\\n",
       "\\end{tabular}\n"
      ],
      "text/markdown": [
       "\n",
       "| <!--/--> | Df | Deviance | Resid. Df | Resid. Dev | Pr(>Chi) | \n",
       "|---|---|---|---|\n",
       "| NULL | NA           |        NA    | 799          | 1065.3922    |           NA | \n",
       "| Pclass |  1           |  83.60694    | 798          |  981.7853    | 6.036064e-20 | \n",
       "| Sex |  1           | 240.01355    | 797          |  741.7717    | 3.906166e-54 | \n",
       "| Age |  1           |  17.49468    | 796          |  724.2770    | 2.881133e-05 | \n",
       "\n",
       "\n"
      ],
      "text/plain": [
       "       Df Deviance  Resid. Df Resid. Dev Pr(>Chi)    \n",
       "NULL   NA        NA 799       1065.3922            NA\n",
       "Pclass  1  83.60694 798        981.7853  6.036064e-20\n",
       "Sex     1 240.01355 797        741.7717  3.906166e-54\n",
       "Age     1  17.49468 796        724.2770  2.881133e-05"
      ]
     },
     "metadata": {},
     "output_type": "display_data"
    }
   ],
   "source": [
    "anova(model, test = 'Chisq')"
   ]
  },
  {
   "cell_type": "markdown",
   "metadata": {},
   "source": [
    "All 3 predictors were statistically significant. Now we evaluate our model's accuracy with our test data"
   ]
  },
  {
   "cell_type": "code",
   "execution_count": 31,
   "metadata": {},
   "outputs": [
    {
     "name": "stdout",
     "output_type": "stream",
     "text": [
      "[1] \"Our logistical regression classifier is  0.797752808988764 accurate or  79.7752808988764 % accurate\"\n"
     ]
    }
   ],
   "source": [
    "fitted.results <- predict(model, newdata = test %>% select(-Survived), type = 'response')\n",
    "fitted.results <- ifelse(fitted.results > .5, 1, 0)\n",
    "error <- mean(fitted.results != test$Survived)\n",
    "print(paste('Our logistical regression classifier is ', 1 - error, 'accurate or ', (1 - error) * 100, '% accurate'))"
   ]
  },
  {
   "cell_type": "markdown",
   "metadata": {},
   "source": [
    "#### Conclusion\n",
    "This model with less predictors was less accurate than our model with more predictors, an 85% vs 80% accuracy meaning the accuracy is rather close. "
   ]
  },
  {
   "cell_type": "markdown",
   "metadata": {},
   "source": [
    "### 4. Comparing with Azure ML and Logistic Regression\n",
    "Looking at the Azure ML example using the preset logistic regression module and 90% of data for training, Azure ML's model was 79.8% accurate."
   ]
  },
  {
   "cell_type": "code",
   "execution_count": null,
   "metadata": {
    "collapsed": true
   },
   "outputs": [],
   "source": []
  }
 ],
 "metadata": {
  "kernelspec": {
   "display_name": "R",
   "language": "R",
   "name": "ir"
  },
  "language_info": {
   "codemirror_mode": "r",
   "file_extension": ".r",
   "mimetype": "text/x-r-source",
   "name": "R",
   "pygments_lexer": "r",
   "version": "3.3.3"
  }
 },
 "nbformat": 4,
 "nbformat_minor": 2
}
