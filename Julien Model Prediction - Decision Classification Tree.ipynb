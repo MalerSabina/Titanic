{
 "cells": [
  {
   "cell_type": "markdown",
   "metadata": {},
   "source": [
    "# Model Prediction: Decision Binary Classification Tree\n",
    "#### Using the RPART library\n",
    "In this model, we will be using a decision binary classification tree to predict whether a certain passenger made it off of the ship or not based on his characteristics. This model will be created based on the RPART algorithm and using the **classification error** impurity quantification method.\n",
    "\n",
    "Next, we will compare these results to other results under the same model but using the other kinds of quantification methods:\n",
    "* Gini index\n",
    "* Entropy"
   ]
  },
  {
   "cell_type": "markdown",
   "metadata": {},
   "source": [
    "## Classification Error Impurity Quantification Method\n",
    "First we will quickly clean the data by removing columns that we found are not very statistically significant when it comes to the survival rate of the passenger."
   ]
  },
  {
   "cell_type": "code",
   "execution_count": 10,
   "metadata": {},
   "outputs": [
    {
     "name": "stdout",
     "output_type": "stream",
     "text": [
      "'data.frame':\t889 obs. of  11 variables:\n",
      " $ PassengerId: int  1 2 3 4 5 6 7 8 9 10 ...\n",
      " $ Survived   : int  0 1 1 1 0 0 0 0 1 1 ...\n",
      " $ Pclass     : int  3 1 3 1 3 3 1 3 3 2 ...\n",
      " $ Name       : Factor w/ 889 levels \"Abbing, Mr. Anthony\",..: 109 191 358 277 16 558 519 628 416 580 ...\n",
      " $ Sex        : Factor w/ 2 levels \"female\",\"male\": 2 1 1 1 2 2 2 2 1 1 ...\n",
      " $ Age        : num  22 38 26 35 35 ...\n",
      " $ SibSp      : int  1 1 0 1 0 0 0 3 0 1 ...\n",
      " $ Parch      : int  0 0 0 0 0 0 0 1 2 0 ...\n",
      " $ Ticket     : Factor w/ 680 levels \"110152\",\"110413\",..: 523 596 669 49 472 275 85 395 344 132 ...\n",
      " $ Fare       : num  7.25 71.28 7.92 53.1 8.05 ...\n",
      " $ Embarked   : Factor w/ 3 levels \"C\",\"Q\",\"S\": 3 1 3 3 3 2 3 3 3 1 ...\n"
     ]
    }
   ],
   "source": [
    "# import libraries\n",
    "library(rpart)\n",
    "library(mlbench)\n",
    "\n",
    "dat <- read.csv('datasets/train_edited.csv')\n",
    "str(dat)"
   ]
  },
  {
   "cell_type": "markdown",
   "metadata": {},
   "source": [
    "By looking at this description of the given dataset, we can see that we should not use **Name**s because of the great number of factors that it has. It considers every kind of name as a different factor.\n",
    "\n",
    "Other columns that we can remove from the given dataset includes **Ticket** because of the insane amount of factors as well. "
   ]
  },
  {
   "cell_type": "code",
   "execution_count": 14,
   "metadata": {},
   "outputs": [
    {
     "ename": "ERROR",
     "evalue": "Error in -\"Name\": invalid argument to unary operator\n",
     "output_type": "error",
     "traceback": [
      "Error in -\"Name\": invalid argument to unary operator\nTraceback:\n",
      "1. dat[c(-\"Name\", -\"Ticket\")]",
      "2. `[.data.frame`(dat, c(-\"Name\", -\"Ticket\"))"
     ]
    }
   ],
   "source": [
    "dat <- dat[c(-'Name', -'Ticket')]"
   ]
  }
 ],
 "metadata": {
  "kernelspec": {
   "display_name": "R",
   "language": "R",
   "name": "ir"
  },
  "language_info": {
   "codemirror_mode": "r",
   "file_extension": ".r",
   "mimetype": "text/x-r-source",
   "name": "R",
   "pygments_lexer": "r",
   "version": "3.3.2"
  }
 },
 "nbformat": 4,
 "nbformat_minor": 2
}
