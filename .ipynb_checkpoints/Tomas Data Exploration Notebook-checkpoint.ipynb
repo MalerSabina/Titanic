{
 "cells": [
  {
   "cell_type": "markdown",
   "metadata": {},
   "source": [
    "# Kaggle Titanic Competition Data Exploration\n",
    "## By Tomas Bencomo\n",
    "This notebook will explore the data from Kaggle's titanic competition. Competitors are tasked with building a predictive model that determines if a passenger surived the sinking of the Titanic in 1912. "
   ]
  },
  {
   "cell_type": "code",
   "execution_count": 29,
   "metadata": {
    "collapsed": true
   },
   "outputs": [],
   "source": [
    "#import libraries\n",
    "library(dplyr)\n",
    "library(ggplot2)\n",
    "options(jupyter.plot_mimetypes = 'image/png')"
   ]
  },
  {
   "cell_type": "markdown",
   "metadata": {},
   "source": [
    "## Import Data\n",
    "train_edited.csv comes from the original train.csv provided by Kaggle. train_edited.csv has been cleaned. The `Age` column had 177 missing values. To fix this, we calculated the mean age of the train data (mean age = 29.6991176470588) and was used to fill in missing age values. 2 observations contained missing `Embarked` locations and were scrubbed from the data set. The `Cabin` column contained too many missing values and these values were too difficult to infer so we deleted the `Cabin` variable entirely from our data "
   ]
  },
  {
   "cell_type": "code",
   "execution_count": 30,
   "metadata": {},
   "outputs": [
    {
     "data": {
      "text/html": [
       "<table>\n",
       "<thead><tr><th scope=col>PassengerId</th><th scope=col>Survived</th><th scope=col>Pclass</th><th scope=col>Name</th><th scope=col>Sex</th><th scope=col>Age</th><th scope=col>SibSp</th><th scope=col>Parch</th><th scope=col>Ticket</th><th scope=col>Fare</th><th scope=col>Embarked</th></tr></thead>\n",
       "<tbody>\n",
       "\t<tr><td>1                                                  </td><td>0                                                  </td><td>3                                                  </td><td>Braund, Mr. Owen Harris                            </td><td>male                                               </td><td>22.00000                                           </td><td>1                                                  </td><td>0                                                  </td><td>A/5 21171                                          </td><td> 7.2500                                            </td><td>S                                                  </td></tr>\n",
       "\t<tr><td>2                                                  </td><td>1                                                  </td><td>1                                                  </td><td>Cumings, Mrs. John Bradley (Florence Briggs Thayer)</td><td>female                                             </td><td>38.00000                                           </td><td>1                                                  </td><td>0                                                  </td><td>PC 17599                                           </td><td>71.2833                                            </td><td>C                                                  </td></tr>\n",
       "\t<tr><td>3                                                  </td><td>1                                                  </td><td>3                                                  </td><td>Heikkinen, Miss. Laina                             </td><td>female                                             </td><td>26.00000                                           </td><td>0                                                  </td><td>0                                                  </td><td>STON/O2. 3101282                                   </td><td> 7.9250                                            </td><td>S                                                  </td></tr>\n",
       "\t<tr><td>4                                                  </td><td>1                                                  </td><td>1                                                  </td><td>Futrelle, Mrs. Jacques Heath (Lily May Peel)       </td><td>female                                             </td><td>35.00000                                           </td><td>1                                                  </td><td>0                                                  </td><td>113803                                             </td><td>53.1000                                            </td><td>S                                                  </td></tr>\n",
       "\t<tr><td>5                                                  </td><td>0                                                  </td><td>3                                                  </td><td>Allen, Mr. William Henry                           </td><td>male                                               </td><td>35.00000                                           </td><td>0                                                  </td><td>0                                                  </td><td>373450                                             </td><td> 8.0500                                            </td><td>S                                                  </td></tr>\n",
       "\t<tr><td>6                                                  </td><td>0                                                  </td><td>3                                                  </td><td>Moran, Mr. James                                   </td><td>male                                               </td><td>29.69912                                           </td><td>0                                                  </td><td>0                                                  </td><td>330877                                             </td><td> 8.4583                                            </td><td>Q                                                  </td></tr>\n",
       "</tbody>\n",
       "</table>\n"
      ],
      "text/latex": [
       "\\begin{tabular}{r|lllllllllll}\n",
       " PassengerId & Survived & Pclass & Name & Sex & Age & SibSp & Parch & Ticket & Fare & Embarked\\\\\n",
       "\\hline\n",
       "\t 1                                                   & 0                                                   & 3                                                   & Braund, Mr. Owen Harris                             & male                                                & 22.00000                                            & 1                                                   & 0                                                   & A/5 21171                                           &  7.2500                                             & S                                                  \\\\\n",
       "\t 2                                                   & 1                                                   & 1                                                   & Cumings, Mrs. John Bradley (Florence Briggs Thayer) & female                                              & 38.00000                                            & 1                                                   & 0                                                   & PC 17599                                            & 71.2833                                             & C                                                  \\\\\n",
       "\t 3                                                   & 1                                                   & 3                                                   & Heikkinen, Miss. Laina                              & female                                              & 26.00000                                            & 0                                                   & 0                                                   & STON/O2. 3101282                                    &  7.9250                                             & S                                                  \\\\\n",
       "\t 4                                                   & 1                                                   & 1                                                   & Futrelle, Mrs. Jacques Heath (Lily May Peel)        & female                                              & 35.00000                                            & 1                                                   & 0                                                   & 113803                                              & 53.1000                                             & S                                                  \\\\\n",
       "\t 5                                                   & 0                                                   & 3                                                   & Allen, Mr. William Henry                            & male                                                & 35.00000                                            & 0                                                   & 0                                                   & 373450                                              &  8.0500                                             & S                                                  \\\\\n",
       "\t 6                                                   & 0                                                   & 3                                                   & Moran, Mr. James                                    & male                                                & 29.69912                                            & 0                                                   & 0                                                   & 330877                                              &  8.4583                                             & Q                                                  \\\\\n",
       "\\end{tabular}\n"
      ],
      "text/markdown": [
       "\n",
       "PassengerId | Survived | Pclass | Name | Sex | Age | SibSp | Parch | Ticket | Fare | Embarked | \n",
       "|---|---|---|---|---|---|\n",
       "| 1                                                   | 0                                                   | 3                                                   | Braund, Mr. Owen Harris                             | male                                                | 22.00000                                            | 1                                                   | 0                                                   | A/5 21171                                           |  7.2500                                             | S                                                   | \n",
       "| 2                                                   | 1                                                   | 1                                                   | Cumings, Mrs. John Bradley (Florence Briggs Thayer) | female                                              | 38.00000                                            | 1                                                   | 0                                                   | PC 17599                                            | 71.2833                                             | C                                                   | \n",
       "| 3                                                   | 1                                                   | 3                                                   | Heikkinen, Miss. Laina                              | female                                              | 26.00000                                            | 0                                                   | 0                                                   | STON/O2. 3101282                                    |  7.9250                                             | S                                                   | \n",
       "| 4                                                   | 1                                                   | 1                                                   | Futrelle, Mrs. Jacques Heath (Lily May Peel)        | female                                              | 35.00000                                            | 1                                                   | 0                                                   | 113803                                              | 53.1000                                             | S                                                   | \n",
       "| 5                                                   | 0                                                   | 3                                                   | Allen, Mr. William Henry                            | male                                                | 35.00000                                            | 0                                                   | 0                                                   | 373450                                              |  8.0500                                             | S                                                   | \n",
       "| 6                                                   | 0                                                   | 3                                                   | Moran, Mr. James                                    | male                                                | 29.69912                                            | 0                                                   | 0                                                   | 330877                                              |  8.4583                                             | Q                                                   | \n",
       "\n",
       "\n"
      ],
      "text/plain": [
       "  PassengerId Survived Pclass\n",
       "1 1           0        3     \n",
       "2 2           1        1     \n",
       "3 3           1        3     \n",
       "4 4           1        1     \n",
       "5 5           0        3     \n",
       "6 6           0        3     \n",
       "  Name                                                Sex    Age      SibSp\n",
       "1 Braund, Mr. Owen Harris                             male   22.00000 1    \n",
       "2 Cumings, Mrs. John Bradley (Florence Briggs Thayer) female 38.00000 1    \n",
       "3 Heikkinen, Miss. Laina                              female 26.00000 0    \n",
       "4 Futrelle, Mrs. Jacques Heath (Lily May Peel)        female 35.00000 1    \n",
       "5 Allen, Mr. William Henry                            male   35.00000 0    \n",
       "6 Moran, Mr. James                                    male   29.69912 0    \n",
       "  Parch Ticket           Fare    Embarked\n",
       "1 0     A/5 21171         7.2500 S       \n",
       "2 0     PC 17599         71.2833 C       \n",
       "3 0     STON/O2. 3101282  7.9250 S       \n",
       "4 0     113803           53.1000 S       \n",
       "5 0     373450            8.0500 S       \n",
       "6 0     330877            8.4583 Q       "
      ]
     },
     "metadata": {},
     "output_type": "display_data"
    }
   ],
   "source": [
    "#build data frame with train data\n",
    "#train_edited.csv comes from the original train.csv file provided\n",
    "data <- read.csv('datasets/train_edited.csv', stringsAsFactor = TRUE)\n",
    "head(data)"
   ]
  },
  {
   "cell_type": "markdown",
   "metadata": {},
   "source": [
    "## Categorical Variables"
   ]
  },
  {
   "cell_type": "code",
   "execution_count": 31,
   "metadata": {},
   "outputs": [
    {
     "name": "stdout",
     "output_type": "stream",
     "text": [
      "'data.frame':\t889 obs. of  11 variables:\n",
      " $ PassengerId: int  1 2 3 4 5 6 7 8 9 10 ...\n",
      " $ Survived   : int  0 1 1 1 0 0 0 0 1 1 ...\n",
      " $ Pclass     : int  3 1 3 1 3 3 1 3 3 2 ...\n",
      " $ Name       : Factor w/ 889 levels \"Abbing, Mr. Anthony\",..: 109 191 358 277 16 558 519 628 416 580 ...\n",
      " $ Sex        : Factor w/ 2 levels \"female\",\"male\": 2 1 1 1 2 2 2 2 1 1 ...\n",
      " $ Age        : num  22 38 26 35 35 ...\n",
      " $ SibSp      : int  1 1 0 1 0 0 0 3 0 1 ...\n",
      " $ Parch      : int  0 0 0 0 0 0 0 1 2 0 ...\n",
      " $ Ticket     : Factor w/ 680 levels \"110152\",\"110413\",..: 523 596 669 49 472 275 85 395 344 132 ...\n",
      " $ Fare       : num  7.25 71.28 7.92 53.1 8.05 ...\n",
      " $ Embarked   : Factor w/ 3 levels \"C\",\"Q\",\"S\": 3 1 3 3 3 2 3 3 3 1 ...\n"
     ]
    }
   ],
   "source": [
    "str(data)"
   ]
  },
  {
   "cell_type": "markdown",
   "metadata": {},
   "source": [
    "By looking at the output of `str(data)` we can determine that the variables `Name`, `Sex`, `Ticket`, and `Embarked` are categorical variables"
   ]
  },
  {
   "cell_type": "markdown",
   "metadata": {},
   "source": [
    "### Embarked\n",
    "We view the number of survivors by their Embarked location"
   ]
  },
  {
   "cell_type": "code",
   "execution_count": 32,
   "metadata": {},
   "outputs": [
    {
     "data": {
      "text/html": [
       "<table>\n",
       "<thead><tr><th scope=col>Embarked</th><th scope=col>percent_survived</th></tr></thead>\n",
       "<tbody>\n",
       "\t<tr><td>Cherbourg  </td><td>0.5535714  </td></tr>\n",
       "\t<tr><td>Queenstown </td><td>0.3896104  </td></tr>\n",
       "\t<tr><td>Southampton</td><td>0.3369565  </td></tr>\n",
       "</tbody>\n",
       "</table>\n"
      ],
      "text/latex": [
       "\\begin{tabular}{r|ll}\n",
       " Embarked & percent\\_survived\\\\\n",
       "\\hline\n",
       "\t Cherbourg   & 0.5535714  \\\\\n",
       "\t Queenstown  & 0.3896104  \\\\\n",
       "\t Southampton & 0.3369565  \\\\\n",
       "\\end{tabular}\n"
      ],
      "text/markdown": [
       "\n",
       "Embarked | percent_survived | \n",
       "|---|---|---|\n",
       "| Cherbourg   | 0.5535714   | \n",
       "| Queenstown  | 0.3896104   | \n",
       "| Southampton | 0.3369565   | \n",
       "\n",
       "\n"
      ],
      "text/plain": [
       "  Embarked    percent_survived\n",
       "1 Cherbourg   0.5535714       \n",
       "2 Queenstown  0.3896104       \n",
       "3 Southampton 0.3369565       "
      ]
     },
     "metadata": {},
     "output_type": "display_data"
    }
   ],
   "source": [
    "embarked_survival <- data %>% group_by(Embarked) %>% summarize(percent_survived = mean(Survived))\n",
    "embarked_survival$Embarked <- c(\"Cherbourg\", \"Queenstown\", \"Southampton\")\n",
    "head(embarked_survival)"
   ]
  },
  {
   "cell_type": "markdown",
   "metadata": {},
   "source": [
    "Next we plot this data."
   ]
  },
  {
   "cell_type": "code",
   "execution_count": 1,
   "metadata": {
    "scrolled": false
   },
   "outputs": [
    {
     "ename": "ERROR",
     "evalue": "Error in eval(expr, envir, enclos): could not find function \"ggplot\"\n",
     "output_type": "error",
     "traceback": [
      "Error in eval(expr, envir, enclos): could not find function \"ggplot\"\nTraceback:\n"
     ]
    }
   ],
   "source": [
    "#options(jupyter.plot_mimetypes = 'image/png')\n",
    "p <- ggplot(embarked_survival, aes(x = Embarked, y = round(survival_percent * 100, digit = 0))) + geom_bar(stat = 'identity', color = 'red', fill = 'red') + labs(x = \"City Embarked From\", y = \"Percent Survived\") + ggtitle(\"Survival Rate by City Embarked\") + geom_text(aes(label = round(survival_percent * 100, digits = 0), vjust = 1.6))\n",
    "p"
   ]
  },
  {
   "cell_type": "code",
   "execution_count": null,
   "metadata": {
    "collapsed": true
   },
   "outputs": [],
   "source": []
  }
 ],
 "metadata": {
  "kernelspec": {
   "display_name": "R",
   "language": "R",
   "name": "ir"
  },
  "language_info": {
   "codemirror_mode": "r",
   "file_extension": ".r",
   "mimetype": "text/x-r-source",
   "name": "R",
   "pygments_lexer": "r",
   "version": "3.3.2"
  }
 },
 "nbformat": 4,
 "nbformat_minor": 2
}
